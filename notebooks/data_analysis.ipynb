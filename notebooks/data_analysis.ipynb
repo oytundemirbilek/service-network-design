{
 "cells": [
  {
   "cell_type": "code",
   "execution_count": null,
   "id": "initial_id",
   "metadata": {
    "ExecuteTime": {
     "end_time": "2025-02-02T23:52:12.738746Z",
     "start_time": "2025-02-02T23:52:05.819451Z"
    },
    "collapsed": true
   },
   "outputs": [],
   "source": [
    "from airnet.dataset import ServiceNetworkDataset\n",
    "import numpy as np\n",
    "\n",
    "data = ServiceNetworkDataset()\n",
    "demand = data.get_demands() / 180\n",
    "\n",
    "# Sum by rows (total demand per origin)\n",
    "row_sums = np.floor(demand.sum(axis=1)).astype(int)\n",
    "\n",
    "# Sum by columns (total demand per destination)\n",
    "col_sums = np.floor(demand.sum(axis=0)).astype(int)\n",
    "\n",
    "total_sum_by_location = row_sums + col_sums\n",
    "# Display results\n",
    "\n",
    "print(\"Total Demand Sums per location:\\n\", total_sum_by_location)"
   ]
  },
  {
   "cell_type": "code",
   "execution_count": null,
   "id": "9d42df42b50d9109",
   "metadata": {
    "ExecuteTime": {
     "end_time": "2025-02-03T12:45:16.554249Z",
     "start_time": "2025-02-03T12:45:16.335244Z"
    }
   },
   "outputs": [],
   "source": [
    "from matplotlib import pyplot as plt\n",
    "import pandas as pd\n",
    "\n",
    "# 2) Create a single-row DataFrame:\n",
    "#    - Row index name: \"Total Demand\"\n",
    "#    - Column names: \"Location_0\", \"Location_1\", ...\n",
    "df_demand_sum = pd.DataFrame(\n",
    "    [total_sum_by_location],\n",
    "    index=[\"Total Demand\"],\n",
    "    columns=[f\"V{i}\" for i in range(len(total_sum_by_location))],\n",
    ")\n",
    "\n",
    "print(\"Initial DataFrame shape:\", df_demand_sum.shape)\n",
    "print(df_demand_sum)\n",
    "\n",
    "# 3) Filter out columns with value == 0:\n",
    "#    We only keep columns whose value is > 0 in this single row.\n",
    "df_demand_sum_filtered = df_demand_sum.loc[:, (df_demand_sum > 0).all(axis=0)]\n",
    "\n",
    "print(\"\\nFiltered DataFrame (nonzero demands) shape:\", df_demand_sum_filtered.shape)\n",
    "print(df_demand_sum_filtered)\n",
    "\n",
    "selected_locations = df_demand_sum_filtered.columns.tolist()\n",
    "median_demand = df_demand_sum_filtered.stack().median()\n",
    "mean_demand = df_demand_sum_filtered.stack().mean()\n",
    "\n",
    "print(\"Selected location indices:\", selected_locations)\n",
    "print(\"Median of nonzero demands:\", median_demand)\n",
    "print(\"Mean of nonzero demands:\", mean_demand)\n",
    "\n",
    "# 4) Draw a histogram of the remaining demands:\n",
    "#    Since the data is in a single row, we transpose to get them in one column.\n",
    "df_demand_sum_filtered.T.plot(kind=\"hist\", bins=50, legend=False)\n",
    "plt.axvline(\n",
    "    mean_demand,\n",
    "    color=\"green\",\n",
    "    linestyle=\"dashed\",\n",
    "    linewidth=2,\n",
    "    label=f\"Mean: {mean_demand:.2f}\",\n",
    ")\n",
    "plt.axvline(\n",
    "    median_demand,\n",
    "    color=\"red\",\n",
    "    linestyle=\"solid\",\n",
    "    linewidth=2,\n",
    "    label=f\"Median: {median_demand:.2f}\",\n",
    ")\n",
    "plt.legend(loc=\"upper right\")\n",
    "plt.xlabel(\"Demand\")\n",
    "plt.title(\"Demand distribution per day\")\n",
    "plt.show()"
   ]
  },
  {
   "cell_type": "code",
   "execution_count": null,
   "id": "c5869f2915ed7cfc",
   "metadata": {
    "ExecuteTime": {
     "end_time": "2025-02-03T12:45:21.504747Z",
     "start_time": "2025-02-03T12:45:21.499232Z"
    }
   },
   "outputs": [],
   "source": [
    "distances = data.get_distances()\n",
    "\n",
    "N = distances.shape[0]\n",
    "\n",
    "# Create a list of labels: ['V0', 'V1', ..., 'V(N-1)']\n",
    "labels = [f\"V{i}\" for i in range(N)]\n",
    "\n",
    "# Build a DataFrame with these row and column names\n",
    "demand_df = pd.DataFrame(demand, index=labels, columns=labels)\n",
    "demand_matrix_filtered = demand_df.loc[selected_locations, selected_locations]"
   ]
  },
  {
   "cell_type": "code",
   "execution_count": null,
   "id": "64a317027f488eb0",
   "metadata": {
    "ExecuteTime": {
     "end_time": "2025-02-03T11:32:37.915748Z",
     "start_time": "2025-02-03T11:32:37.822923Z"
    }
   },
   "outputs": [],
   "source": [
    "# Create a list of labels: ['V0', 'V1', ..., 'V(N-1)']\n",
    "labels = [f\"V{i}\" for i in range(N)]\n",
    "\n",
    "# Build a DataFrame with these row and column names\n",
    "distances_df = pd.DataFrame(distances, index=labels, columns=labels)\n",
    "\n",
    "print(distances_df)\n",
    "\n",
    "distance_matrix_filtered = distances_df.loc[selected_locations, selected_locations]\n",
    "print(\"Filtered distance matrix shape:\", distance_matrix_filtered.shape)\n",
    "\n",
    "# 1) Convert the DataFrame to a NumPy array and flatten\n",
    "distances_array = distances_df.to_numpy().flatten()\n",
    "\n",
    "# 2) Calculate mean and median\n",
    "dist_mean = distances_array.mean()\n",
    "dist_median = np.median(distances_array)\n",
    "\n",
    "print(f\"Mean distance: {dist_mean:.2f} km\")\n",
    "print(f\"Median distance: {dist_median:.2f} km\")\n",
    "\n",
    "# Plot a histogram\n",
    "plt.figure(figsize=(7, 5))\n",
    "plt.hist(distances_array, bins=20, edgecolor=\"black\")\n",
    "plt.axvline(\n",
    "    dist_mean,\n",
    "    color=\"yellow\",\n",
    "    linestyle=\"dashed\",\n",
    "    linewidth=2,\n",
    "    label=f\"Mean: {dist_mean:.2f}\",\n",
    ")\n",
    "plt.axvline(\n",
    "    dist_median,\n",
    "    color=\"red\",\n",
    "    linestyle=\"solid\",\n",
    "    linewidth=2,\n",
    "    label=f\"Median: {dist_median:.2f}\",\n",
    ")\n",
    "plt.legend(loc=\"upper right\")\n",
    "plt.xlabel(\"Distance\")\n",
    "plt.ylabel(\"Frequency\")\n",
    "plt.title(\"Travel distance distribution\")\n",
    "plt.show()"
   ]
  }
 ],
 "metadata": {
  "kernelspec": {
   "display_name": ".venv",
   "language": "python",
   "name": "python3"
  },
  "language_info": {
   "codemirror_mode": {
    "name": "ipython",
    "version": 3
   },
   "file_extension": ".py",
   "mimetype": "text/x-python",
   "name": "python",
   "nbconvert_exporter": "python",
   "pygments_lexer": "ipython3",
   "version": "3.10.6"
  }
 },
 "nbformat": 4,
 "nbformat_minor": 5
}
