{
 "cells": [
  {
   "cell_type": "code",
   "execution_count": 2,
   "metadata": {},
   "outputs": [
    {
     "name": "stdout",
     "output_type": "stream",
     "text": [
      "Requirement already satisfied: kagglehub in /home/oytun/homeworks/transportation_analytics/service-network-design/.venv/lib/python3.10/site-packages (0.3.6)\n",
      "Requirement already satisfied: requests in /home/oytun/homeworks/transportation_analytics/service-network-design/.venv/lib/python3.10/site-packages (from kagglehub) (2.32.3)\n",
      "Requirement already satisfied: tqdm in /home/oytun/homeworks/transportation_analytics/service-network-design/.venv/lib/python3.10/site-packages (from kagglehub) (4.67.1)\n",
      "Requirement already satisfied: packaging in /home/oytun/homeworks/transportation_analytics/service-network-design/.venv/lib/python3.10/site-packages (from kagglehub) (24.2)\n",
      "Requirement already satisfied: charset-normalizer<4,>=2 in /home/oytun/homeworks/transportation_analytics/service-network-design/.venv/lib/python3.10/site-packages (from requests->kagglehub) (3.4.1)\n",
      "Requirement already satisfied: certifi>=2017.4.17 in /home/oytun/homeworks/transportation_analytics/service-network-design/.venv/lib/python3.10/site-packages (from requests->kagglehub) (2024.12.14)\n",
      "Requirement already satisfied: urllib3<3,>=1.21.1 in /home/oytun/homeworks/transportation_analytics/service-network-design/.venv/lib/python3.10/site-packages (from requests->kagglehub) (2.3.0)\n",
      "Requirement already satisfied: idna<4,>=2.5 in /home/oytun/homeworks/transportation_analytics/service-network-design/.venv/lib/python3.10/site-packages (from requests->kagglehub) (3.10)\n"
     ]
    }
   ],
   "source": [
    "! pip install kagglehub"
   ]
  },
  {
   "cell_type": "code",
   "execution_count": 3,
   "metadata": {},
   "outputs": [
    {
     "name": "stdout",
     "output_type": "stream",
     "text": [
      "Collecting kaggle\n",
      "  Downloading kaggle-1.6.17.tar.gz (82 kB)\n",
      "\u001b[2K     \u001b[90m━━━━━━━━━━━━━━━━━━━━━━━━━━━━━━━━━━━━━━━━\u001b[0m \u001b[32m82.7/82.7 KB\u001b[0m \u001b[31m2.0 MB/s\u001b[0m eta \u001b[36m0:00:00\u001b[0m00:01\u001b[0m\n",
      "\u001b[?25h  Preparing metadata (setup.py) ... \u001b[?25ldone\n",
      "\u001b[?25hCollecting bleach\n",
      "  Downloading bleach-6.2.0-py3-none-any.whl (163 kB)\n",
      "\u001b[2K     \u001b[90m━━━━━━━━━━━━━━━━━━━━━━━━━━━━━━━━━━━━━━━\u001b[0m \u001b[32m163.4/163.4 KB\u001b[0m \u001b[31m6.7 MB/s\u001b[0m eta \u001b[36m0:00:00\u001b[0m\n",
      "\u001b[?25hRequirement already satisfied: certifi>=2023.7.22 in /home/oytun/homeworks/transportation_analytics/service-network-design/.venv/lib/python3.10/site-packages (from kaggle) (2024.12.14)\n",
      "Requirement already satisfied: python-dateutil in /home/oytun/homeworks/transportation_analytics/service-network-design/.venv/lib/python3.10/site-packages (from kaggle) (2.9.0.post0)\n",
      "Collecting python-slugify\n",
      "  Downloading python_slugify-8.0.4-py2.py3-none-any.whl (10 kB)\n",
      "Requirement already satisfied: requests in /home/oytun/homeworks/transportation_analytics/service-network-design/.venv/lib/python3.10/site-packages (from kaggle) (2.32.3)\n",
      "Requirement already satisfied: six>=1.10 in /home/oytun/homeworks/transportation_analytics/service-network-design/.venv/lib/python3.10/site-packages (from kaggle) (1.17.0)\n",
      "Requirement already satisfied: tqdm in /home/oytun/homeworks/transportation_analytics/service-network-design/.venv/lib/python3.10/site-packages (from kaggle) (4.67.1)\n",
      "Requirement already satisfied: urllib3 in /home/oytun/homeworks/transportation_analytics/service-network-design/.venv/lib/python3.10/site-packages (from kaggle) (2.3.0)\n",
      "Collecting webencodings\n",
      "  Downloading webencodings-0.5.1-py2.py3-none-any.whl (11 kB)\n",
      "Collecting text-unidecode>=1.3\n",
      "  Downloading text_unidecode-1.3-py2.py3-none-any.whl (78 kB)\n",
      "\u001b[2K     \u001b[90m━━━━━━━━━━━━━━━━━━━━━━━━━━━━━━━━━━━━━━━━\u001b[0m \u001b[32m78.2/78.2 KB\u001b[0m \u001b[31m6.6 MB/s\u001b[0m eta \u001b[36m0:00:00\u001b[0m\n",
      "\u001b[?25hRequirement already satisfied: charset-normalizer<4,>=2 in /home/oytun/homeworks/transportation_analytics/service-network-design/.venv/lib/python3.10/site-packages (from requests->kaggle) (3.4.1)\n",
      "Requirement already satisfied: idna<4,>=2.5 in /home/oytun/homeworks/transportation_analytics/service-network-design/.venv/lib/python3.10/site-packages (from requests->kaggle) (3.10)\n",
      "Using legacy 'setup.py install' for kaggle, since package 'wheel' is not installed.\n",
      "Installing collected packages: webencodings, text-unidecode, python-slugify, bleach, kaggle\n",
      "  Running setup.py install for kaggle ... \u001b[?25ldone\n",
      "\u001b[?25hSuccessfully installed bleach-6.2.0 kaggle-1.6.17 python-slugify-8.0.4 text-unidecode-1.3 webencodings-0.5.1\n"
     ]
    }
   ],
   "source": [
    "! pip install kaggle"
   ]
  },
  {
   "cell_type": "code",
   "execution_count": 4,
   "metadata": {},
   "outputs": [
    {
     "name": "stdout",
     "output_type": "stream",
     "text": [
      "Dataset URL: https://www.kaggle.com/datasets/neomatrix369/nyc-taxi-trip-duration-extended\n",
      "License(s): CC0-1.0\n",
      "Downloading nyc-taxi-trip-duration-extended.zip to /home/oytun/homeworks/transportation_analytics/service-network-design/notebooks\n",
      "100%|███████████████████████████████████████▉| 379M/379M [00:30<00:00, 13.3MB/s]\n",
      "100%|████████████████████████████████████████| 379M/379M [00:30<00:00, 13.0MB/s]\n"
     ]
    }
   ],
   "source": [
    "! kaggle datasets download neomatrix369/nyc-taxi-trip-duration-extended"
   ]
  },
  {
   "cell_type": "code",
   "execution_count": 5,
   "metadata": {},
   "outputs": [
    {
     "name": "stdout",
     "output_type": "stream",
     "text": [
      "Archive:  nyc-taxi-trip-duration-extended.zip\n",
      "  inflating: nyc_additional_info.csv  \n",
      "  inflating: sample_submission/sample_submission.csv  \n",
      "  inflating: test/test.csv           \n",
      "  inflating: test_extended.csv       \n",
      "  inflating: train/train.csv         \n",
      "  inflating: train_extended.csv      \n",
      "  inflating: train_test_extended.csv  \n"
     ]
    }
   ],
   "source": [
    "! unzip nyc-taxi-trip-duration-extended.zip ../datasets/nyc-taxi-trip-duration-extended/"
   ]
  },
  {
   "cell_type": "code",
   "execution_count": 1,
   "metadata": {},
   "outputs": [
    {
     "name": "stdout",
     "output_type": "stream",
     "text": [
      "Dataset URL: https://www.kaggle.com/datasets/jackcook/neighborhoods-in-new-york\n",
      "License(s): other\n",
      "Downloading neighborhoods-in-new-york.zip to /home/oytun/homeworks/transportation_analytics/service-network-design/notebooks\n",
      " 98%|█████████████████████████████████████▎| 1.00M/1.02M [00:00<00:00, 1.53MB/s]\n",
      "100%|██████████████████████████████████████| 1.02M/1.02M [00:00<00:00, 1.56MB/s]\n"
     ]
    }
   ],
   "source": [
    "! kaggle datasets download jackcook/neighborhoods-in-new-york"
   ]
  },
  {
   "cell_type": "code",
   "execution_count": 5,
   "metadata": {},
   "outputs": [
    {
     "name": "stdout",
     "output_type": "stream",
     "text": [
      "Archive:  neighborhoods-in-new-york.zip\n",
      "  inflating: ZillowNeighborhoods-NY.dbf  \n",
      "  inflating: ZillowNeighborhoods-NY.prj  \n",
      "  inflating: ZillowNeighborhoods-NY.shp  \n",
      "  inflating: ZillowNeighborhoods-NY.shx  \n"
     ]
    }
   ],
   "source": [
    "! unzip neighborhoods-in-new-york.zip"
   ]
  },
  {
   "cell_type": "markdown",
   "metadata": {},
   "source": []
  }
 ],
 "metadata": {
  "kernelspec": {
   "display_name": ".venv",
   "language": "python",
   "name": "python3"
  },
  "language_info": {
   "codemirror_mode": {
    "name": "ipython",
    "version": 3
   },
   "file_extension": ".py",
   "mimetype": "text/x-python",
   "name": "python",
   "nbconvert_exporter": "python",
   "pygments_lexer": "ipython3",
   "version": "3.10.6"
  }
 },
 "nbformat": 4,
 "nbformat_minor": 2
}
