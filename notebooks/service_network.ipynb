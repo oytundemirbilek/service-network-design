{
 "cells": [
  {
   "cell_type": "code",
   "execution_count": 1,
   "metadata": {},
   "outputs": [],
   "source": [
    "import os\n",
    "import sys\n",
    "\n",
    "sys.path.append(os.path.dirname(os.getcwd()))"
   ]
  },
  {
   "cell_type": "code",
   "execution_count": null,
   "metadata": {},
   "outputs": [],
   "source": [
    "import numpy as np\n",
    "\n",
    "from airnet.dataset import ServiceNetworkDataset\n",
    "from airnet.model import ServiceNetworkModel\n",
    "from airnet.parameters import ModelParameters"
   ]
  },
  {
   "cell_type": "code",
   "execution_count": null,
   "metadata": {},
   "outputs": [],
   "source": [
    "data = ServiceNetworkDataset(download=True)\n",
    "data.nyc_neighborhoods.shape"
   ]
  },
  {
   "cell_type": "code",
   "execution_count": 4,
   "metadata": {},
   "outputs": [],
   "source": [
    "distances = data.get_distances()  # from node i to node j\n",
    "demands = data.get_demands() // 180  # between node i and node j"
   ]
  },
  {
   "cell_type": "code",
   "execution_count": null,
   "metadata": {},
   "outputs": [],
   "source": [
    "data.visualize_solution(demands)"
   ]
  },
  {
   "cell_type": "code",
   "execution_count": null,
   "metadata": {},
   "outputs": [],
   "source": [
    "params = ModelParameters()\n",
    "\n",
    "n_nodes = len(data.nyc_neighborhoods)\n",
    "\n",
    "model = ServiceNetworkModel(\n",
    "    n_nodes,\n",
    "    params.base_price,\n",
    "    params.price_per_km,\n",
    "    params.variable_cost_per_km,\n",
    ")\n",
    "\n",
    "fixed_costs = np.ones(n_nodes) * params.fixed_cost_vertiport\n",
    "capacities = np.ones(n_nodes) * params.cap_vertiport\n",
    "\n",
    "model.solve(distances, demands, fixed_costs, capacities)\n",
    "solution_flights, solution_vertiports = model.get_solution()"
   ]
  },
  {
   "cell_type": "code",
   "execution_count": null,
   "metadata": {},
   "outputs": [],
   "source": [
    "selected_vertiports = data.nyc_neighborhoods[solution_vertiports.astype(bool)]\n",
    "print(selected_vertiports)"
   ]
  },
  {
   "cell_type": "code",
   "execution_count": null,
   "metadata": {},
   "outputs": [],
   "source": [
    "data.visualize_solution(solution_flights)"
   ]
  },
  {
   "cell_type": "code",
   "execution_count": 12,
   "metadata": {},
   "outputs": [],
   "source": [
    "import pandas as pd\n",
    "\n",
    "demand = data.df.groupby(\n",
    "    [\"pickup_neighbourhood\", \"dropoff_neighbourhood\"], as_index=False\n",
    ")[\"passenger_count\"].sum()\n",
    "demand = pd.DataFrame(demand)"
   ]
  },
  {
   "cell_type": "code",
   "execution_count": null,
   "metadata": {},
   "outputs": [],
   "source": [
    "demand[demand[\"dropoff_neighbourhood\"] == \"Kensington\"]"
   ]
  }
 ],
 "metadata": {
  "kernelspec": {
   "display_name": ".venv",
   "language": "python",
   "name": "python3"
  },
  "language_info": {
   "codemirror_mode": {
    "name": "ipython",
    "version": 3
   },
   "file_extension": ".py",
   "mimetype": "text/x-python",
   "name": "python",
   "nbconvert_exporter": "python",
   "pygments_lexer": "ipython3",
   "version": "3.10.6"
  }
 },
 "nbformat": 4,
 "nbformat_minor": 2
}
